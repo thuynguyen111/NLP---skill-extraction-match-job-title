{
 "cells": [
  {
   "cell_type": "code",
   "execution_count": 28,
   "id": "acdb120b",
   "metadata": {},
   "outputs": [],
   "source": [
    "#import packages\n",
    "import pandas as pd\n",
    "import nltk\n",
    "from sklearn.feature_extraction.text import TfidfVectorizer\n",
    "from nltk import word_tokenize          \n",
    "from nltk.stem import WordNetLemmatizer\n",
    "import nltk\n",
    "import re\n",
    "from nltk.corpus import stopwords\n",
    "\n",
    "\n",
    "import gensim\n",
    "from gensim import corpora\n",
    "from gensim.models import LdaModel\n",
    "from gensim.models.coherencemodel import CoherenceModel\n",
    "import numpy as np \n",
    "\n",
    "from sklearn.decomposition import LatentDirichletAllocation as LDA\n",
    "      \n",
    "from pyLDAvis import sklearn as sklearn_lda\n",
    "import pickle \n",
    "import pyLDAvis\n",
    "from wordcloud import WordCloud, STOPWORDS\n",
    "import matplotlib.pyplot as plt\n",
    "%matplotlib inline\n",
    "import seaborn as sns\n",
    "\n",
    "# do not print warnings\n",
    "import warnings\n",
    "warnings.filterwarnings(\"ignore\")"
   ]
  },
  {
   "cell_type": "code",
   "execution_count": 13,
   "id": "88a58eae",
   "metadata": {
    "scrolled": true
   },
   "outputs": [
    {
     "name": "stdout",
     "output_type": "stream",
     "text": [
      "Collecting pyLDAvis\n",
      "  Downloading pyLDAvis-3.3.1.tar.gz (1.7 MB)\n",
      "\u001b[K     |████████████████████████████████| 1.7 MB 1.0 MB/s eta 0:00:01\n",
      "\u001b[?25h  Installing build dependencies ... \u001b[?25ldone\n",
      "\u001b[?25h  Getting requirements to build wheel ... \u001b[?25ldone\n",
      "\u001b[?25h  Installing backend dependencies ... \u001b[?25ldone\n",
      "\u001b[?25h    Preparing wheel metadata ... \u001b[?25ldone\n",
      "\u001b[?25hRequirement already satisfied: scipy in /opt/anaconda3/lib/python3.8/site-packages (from pyLDAvis) (1.8.1)\n",
      "Collecting funcy\n",
      "  Downloading funcy-1.17-py2.py3-none-any.whl (33 kB)\n",
      "Requirement already satisfied: joblib in /opt/anaconda3/lib/python3.8/site-packages (from pyLDAvis) (1.0.1)\n",
      "Requirement already satisfied: sklearn in /opt/anaconda3/lib/python3.8/site-packages (from pyLDAvis) (0.0)\n",
      "Requirement already satisfied: future in /opt/anaconda3/lib/python3.8/site-packages (from pyLDAvis) (0.18.2)\n",
      "Requirement already satisfied: setuptools in /opt/anaconda3/lib/python3.8/site-packages (from pyLDAvis) (60.9.3)\n",
      "Collecting gensim\n",
      "  Downloading gensim-4.2.0-cp38-cp38-macosx_10_9_x86_64.whl (24.0 MB)\n",
      "\u001b[K     |████████████████████████████████| 24.0 MB 7.2 MB/s eta 0:00:01\n",
      "\u001b[?25hRequirement already satisfied: scikit-learn in /opt/anaconda3/lib/python3.8/site-packages (from pyLDAvis) (1.0.2)\n",
      "Requirement already satisfied: numexpr in /opt/anaconda3/lib/python3.8/site-packages (from pyLDAvis) (2.7.3)\n",
      "Requirement already satisfied: jinja2 in /opt/anaconda3/lib/python3.8/site-packages (from pyLDAvis) (3.0.3)\n",
      "Requirement already satisfied: numpy>=1.20.0 in /opt/anaconda3/lib/python3.8/site-packages (from pyLDAvis) (1.23.0)\n",
      "Requirement already satisfied: pandas>=1.2.0 in /opt/anaconda3/lib/python3.8/site-packages (from pyLDAvis) (1.4.3)\n",
      "Requirement already satisfied: pytz>=2020.1 in /opt/anaconda3/lib/python3.8/site-packages (from pandas>=1.2.0->pyLDAvis) (2021.3)\n",
      "Requirement already satisfied: python-dateutil>=2.8.1 in /opt/anaconda3/lib/python3.8/site-packages (from pandas>=1.2.0->pyLDAvis) (2.8.2)\n",
      "Requirement already satisfied: six>=1.5 in /opt/anaconda3/lib/python3.8/site-packages (from python-dateutil>=2.8.1->pandas>=1.2.0->pyLDAvis) (1.16.0)\n",
      "Collecting smart-open>=1.8.1\n",
      "  Downloading smart_open-6.1.0-py3-none-any.whl (58 kB)\n",
      "\u001b[K     |████████████████████████████████| 58 kB 8.5 MB/s eta 0:00:01\n",
      "\u001b[?25hRequirement already satisfied: MarkupSafe>=2.0 in /opt/anaconda3/lib/python3.8/site-packages (from jinja2->pyLDAvis) (2.0.1)\n",
      "Requirement already satisfied: threadpoolctl>=2.0.0 in /opt/anaconda3/lib/python3.8/site-packages (from scikit-learn->pyLDAvis) (2.1.0)\n",
      "Building wheels for collected packages: pyLDAvis\n",
      "  Building wheel for pyLDAvis (PEP 517) ... \u001b[?25ldone\n",
      "\u001b[?25h  Created wheel for pyLDAvis: filename=pyLDAvis-3.3.1-py2.py3-none-any.whl size=136882 sha256=4b6a36c20978d9674b1123347dd38a60d7349adb741b6423839a555622bdc9f4\n",
      "  Stored in directory: /Users/thuynguyenphan/Library/Caches/pip/wheels/90/61/ec/9dbe9efc3acf9c4e37ba70fbbcc3f3a0ebd121060aa593181a\n",
      "Successfully built pyLDAvis\n",
      "Installing collected packages: smart-open, gensim, funcy, pyLDAvis\n",
      "Successfully installed funcy-1.17 gensim-4.2.0 pyLDAvis-3.3.1 smart-open-6.1.0\n"
     ]
    }
   ],
   "source": [
    "!pip install pyLDAvis"
   ]
  },
  {
   "cell_type": "code",
   "execution_count": 15,
   "id": "9e80117a",
   "metadata": {},
   "outputs": [],
   "source": [
    "#load data\n",
    "df = pd.read_csv(\"job_offers_original_2.csv\")"
   ]
  },
  {
   "cell_type": "code",
   "execution_count": 16,
   "id": "e2e81f73",
   "metadata": {},
   "outputs": [],
   "source": [
    "#drop all columns and keeps only job_title and job_description\n",
    "df = df[['job_title', 'job_description']]"
   ]
  },
  {
   "cell_type": "code",
   "execution_count": 4,
   "id": "df2c8e3f",
   "metadata": {},
   "outputs": [
    {
     "data": {
      "text/html": [
       "<div>\n",
       "<style scoped>\n",
       "    .dataframe tbody tr th:only-of-type {\n",
       "        vertical-align: middle;\n",
       "    }\n",
       "\n",
       "    .dataframe tbody tr th {\n",
       "        vertical-align: top;\n",
       "    }\n",
       "\n",
       "    .dataframe thead th {\n",
       "        text-align: right;\n",
       "    }\n",
       "</style>\n",
       "<table border=\"1\" class=\"dataframe\">\n",
       "  <thead>\n",
       "    <tr style=\"text-align: right;\">\n",
       "      <th></th>\n",
       "      <th>job_title</th>\n",
       "      <th>job_description</th>\n",
       "    </tr>\n",
       "  </thead>\n",
       "  <tbody>\n",
       "    <tr>\n",
       "      <th>0</th>\n",
       "      <td>Data Engineer</td>\n",
       "      <td>Do you want to work on the most pressing probl...</td>\n",
       "    </tr>\n",
       "    <tr>\n",
       "      <th>1</th>\n",
       "      <td>Data Engineer</td>\n",
       "      <td>We strongly encourage people of colour, lesbia...</td>\n",
       "    </tr>\n",
       "    <tr>\n",
       "      <th>2</th>\n",
       "      <td>Data Engineer</td>\n",
       "      <td>We strongly encourage people of colour, lesbia...</td>\n",
       "    </tr>\n",
       "    <tr>\n",
       "      <th>3</th>\n",
       "      <td>Data Engineer</td>\n",
       "      <td>DescriptionAt The Data Shed, we've been workin...</td>\n",
       "    </tr>\n",
       "    <tr>\n",
       "      <th>4</th>\n",
       "      <td>Data Engineer</td>\n",
       "      <td>Are you a Data Engineer interested in or curre...</td>\n",
       "    </tr>\n",
       "  </tbody>\n",
       "</table>\n",
       "</div>"
      ],
      "text/plain": [
       "       job_title                                    job_description\n",
       "0  Data Engineer  Do you want to work on the most pressing probl...\n",
       "1  Data Engineer  We strongly encourage people of colour, lesbia...\n",
       "2  Data Engineer  We strongly encourage people of colour, lesbia...\n",
       "3  Data Engineer  DescriptionAt The Data Shed, we've been workin...\n",
       "4  Data Engineer  Are you a Data Engineer interested in or curre..."
      ]
     },
     "execution_count": 4,
     "metadata": {},
     "output_type": "execute_result"
    }
   ],
   "source": [
    "df.head()"
   ]
  },
  {
   "cell_type": "code",
   "execution_count": 17,
   "id": "b5cea72b",
   "metadata": {},
   "outputs": [],
   "source": [
    "#(?<![A-Z\\W])  what precedes is a word character EXCEPT for capital letters\n",
    "#(?=[A-Z])     and what follows is a capital letter\n",
    "def sepa(text): \n",
    "    text = re.sub(r'(?<![A-Z\\W])(?=[A-Z])', ' ', text)\n",
    "    return(text)\n",
    "\n",
    "df['job_description']=df['job_description'].apply(sepa)"
   ]
  },
  {
   "cell_type": "code",
   "execution_count": 19,
   "id": "e0bf2db2",
   "metadata": {},
   "outputs": [],
   "source": [
    "df[\"job_description\"] = df[\"job_description\"].str.lower() #lowercase\n",
    "df['job_description'] = df['job_description'].str.replace('\\d+', '') # remove digits\n",
    "df['job_description'] = df['job_description'].str.replace('[^\\w\\s]', ' ') # remove punctuation "
   ]
  },
  {
   "cell_type": "code",
   "execution_count": 20,
   "id": "931d2b07",
   "metadata": {},
   "outputs": [
    {
     "name": "stdout",
     "output_type": "stream",
     "text": [
      "CPU times: user 5.64 s, sys: 43.8 ms, total: 5.69 s\n",
      "Wall time: 5.73 s\n"
     ]
    }
   ],
   "source": [
    "%%time\n",
    "# import stop words\n",
    "stop_words=nltk.corpus.stopwords.words('english')\n",
    "# add more words to remove\n",
    "remove_key_w = ['show','le','please','feel','free','work','working','role','opportunity','data','role'\n",
    "               ,'skill','experience','company','experienced','paid'',''bonus','applicant','candidate']\n",
    "\n",
    "def clean_text(text):\n",
    "    le=WordNetLemmatizer()\n",
    "    word_tokens=word_tokenize(text)\n",
    "    tokens=[le.lemmatize(w) for w in word_tokens if w not in stop_words and len(w)>3]\n",
    "    cleaned_text= [t for t in tokens if t not in remove_key_w]\n",
    "    return cleaned_text\n",
    "\n",
    "df['desc_tokenized']=df['job_description'].apply(clean_text)\n"
   ]
  },
  {
   "cell_type": "code",
   "execution_count": 11,
   "id": "f8fa7ba0",
   "metadata": {},
   "outputs": [],
   "source": [
    "pd.set_option(\"display.max_colwidth\", -1)"
   ]
  },
  {
   "cell_type": "code",
   "execution_count": 9,
   "id": "dfa9fd84",
   "metadata": {},
   "outputs": [],
   "source": [
    "pd.set_option('display.max_columns', None)\n",
    "pd.set_option('display.max_rows', None)"
   ]
  },
  {
   "cell_type": "code",
   "execution_count": 106,
   "id": "537d49d6",
   "metadata": {},
   "outputs": [
    {
     "data": {
      "text/plain": [
       "['strongly',\n",
       " 'encourage',\n",
       " 'people',\n",
       " 'colour',\n",
       " 'lesbian',\n",
       " 'bisexual',\n",
       " 'transgender',\n",
       " 'queer',\n",
       " 'binary',\n",
       " 'people',\n",
       " 'veteran',\n",
       " 'parent',\n",
       " 'individual',\n",
       " 'disability',\n",
       " 'apply',\n",
       " 'bumble',\n",
       " 'equal',\n",
       " 'employer',\n",
       " 'welcome',\n",
       " 'everyone',\n",
       " 'team',\n",
       " 'need',\n",
       " 'reasonable',\n",
       " 'adjustment',\n",
       " 'point',\n",
       " 'application',\n",
       " 'interview',\n",
       " 'process',\n",
       " 'know',\n",
       " 'application',\n",
       " 'note',\n",
       " 'pronoun',\n",
       " 'example',\n",
       " 'strongly',\n",
       " 'encourage',\n",
       " 'people',\n",
       " 'colour',\n",
       " 'lesbian',\n",
       " 'bisexual',\n",
       " 'transgender',\n",
       " 'queer',\n",
       " 'binary',\n",
       " 'people',\n",
       " 'veteran',\n",
       " 'parent',\n",
       " 'individual',\n",
       " 'disability',\n",
       " 'apply',\n",
       " 'bumble',\n",
       " 'equal',\n",
       " 'employer',\n",
       " 'welcome',\n",
       " 'everyone',\n",
       " 'team',\n",
       " 'need',\n",
       " 'reasonable',\n",
       " 'adjustment',\n",
       " 'point',\n",
       " 'application',\n",
       " 'interview',\n",
       " 'process',\n",
       " 'know',\n",
       " 'application',\n",
       " 'note',\n",
       " 'pronoun',\n",
       " 'example',\n",
       " 'bumble',\n",
       " 'looking',\n",
       " 'engineer',\n",
       " 'participate',\n",
       " 'development',\n",
       " 'collecting',\n",
       " 'framework',\n",
       " 'service',\n",
       " 'tool',\n",
       " 'cross',\n",
       " 'functional',\n",
       " 'department',\n",
       " 'based',\n",
       " 'london',\n",
       " 'reporting',\n",
       " 'engineering',\n",
       " 'team',\n",
       " 'lead',\n",
       " 'accountability',\n",
       " 'source',\n",
       " 'bumble',\n",
       " 'definition',\n",
       " 'collection',\n",
       " 'framework',\n",
       " 'provide',\n",
       " 'analyst',\n",
       " 'decision',\n",
       " 'maker',\n",
       " 'supporting',\n",
       " 'developing',\n",
       " 'massive',\n",
       " 'pipeline',\n",
       " 'define',\n",
       " 'look',\n",
       " 'developing',\n",
       " 'internal',\n",
       " 'tool',\n",
       " 'upgrade',\n",
       " 'existing',\n",
       " 'platform',\n",
       " 'integrating',\n",
       " 'internal',\n",
       " 'external',\n",
       " 'source',\n",
       " 'reporting',\n",
       " 'tool',\n",
       " 'database',\n",
       " 'support',\n",
       " 'evolve',\n",
       " 'underlying',\n",
       " 'infrastructure',\n",
       " 'platform',\n",
       " 'looking',\n",
       " 'advanced',\n",
       " 'level',\n",
       " 'python',\n",
       " 'backend',\n",
       " 'development',\n",
       " 'advanced',\n",
       " 'knowledge',\n",
       " 'posix',\n",
       " 'unix',\n",
       " 'linux',\n",
       " 'ecosystem',\n",
       " 'based',\n",
       " 'relational',\n",
       " 'database',\n",
       " 'especially',\n",
       " 'warehouse',\n",
       " 'solution',\n",
       " 'understanding',\n",
       " 'popular',\n",
       " 'code',\n",
       " 'development',\n",
       " 'approach',\n",
       " 'test',\n",
       " 'driven',\n",
       " 'development',\n",
       " 'continuous',\n",
       " 'integration',\n",
       " 'continuous',\n",
       " 'deployment',\n",
       " 'containerized',\n",
       " 'service',\n",
       " 'development',\n",
       " 'desirable',\n",
       " 'typescript',\n",
       " 'react',\n",
       " 'development',\n",
       " 'hadoop',\n",
       " 'ecosystem',\n",
       " 'java',\n",
       " 'spark',\n",
       " 'programming',\n",
       " 'google',\n",
       " 'cloud',\n",
       " 'platform',\n",
       " 'familiarity',\n",
       " 'snowflake',\n",
       " 'familiarity',\n",
       " 'basic',\n",
       " 'familiarity',\n",
       " 'afraid',\n",
       " 'learn',\n",
       " 'build',\n",
       " 'complex',\n",
       " 'system',\n",
       " 'self',\n",
       " 'starter',\n",
       " 'thrive',\n",
       " 'taking',\n",
       " 'ownership',\n",
       " 'initiative',\n",
       " 'limited',\n",
       " 'oversight',\n",
       " 'positive',\n",
       " 'committed',\n",
       " 'attitude',\n",
       " 'flexible',\n",
       " 'approach',\n",
       " 'know',\n",
       " 'manage',\n",
       " 'multiple',\n",
       " 'priority',\n",
       " 'breaking',\n",
       " 'large',\n",
       " 'project',\n",
       " 'manageable',\n",
       " 'piece',\n",
       " 'first',\n",
       " 'notice',\n",
       " 'issue',\n",
       " 'able',\n",
       " 'exploit',\n",
       " 'team',\n",
       " 'advantage',\n",
       " 'deeply',\n",
       " 'passionate',\n",
       " 'bumble',\n",
       " 'brand',\n",
       " 'vision',\n",
       " 'value']"
      ]
     },
     "execution_count": 106,
     "metadata": {},
     "output_type": "execute_result"
    }
   ],
   "source": [
    "df['desc_tokenized'][1]"
   ]
  },
  {
   "cell_type": "code",
   "execution_count": 8,
   "id": "16d754d4",
   "metadata": {},
   "outputs": [],
   "source": [
    "# we have already tokenize the text so we need a dummy one to bypass tokenization\n",
    "def dummy_tokenizer(string): return string\n",
    "\n",
    "vect =TfidfVectorizer(tokenizer=dummy_tokenizer, lowercase=False)\n",
    "vect_text=vect.fit_transform(df['desc_tokenized'])"
   ]
  },
  {
   "cell_type": "code",
   "execution_count": 9,
   "id": "0748c088",
   "metadata": {},
   "outputs": [],
   "source": [
    "# create dictionary\n",
    "dictionary = corpora.Dictionary(df['desc_tokenized'])\n",
    "\n",
    "# create document term matrix\n",
    "bow = [dictionary.doc2bow(text) for text in df['desc_tokenized']]"
   ]
  },
  {
   "cell_type": "code",
   "execution_count": 10,
   "id": "e9c0aff9",
   "metadata": {},
   "outputs": [
    {
     "name": "stdout",
     "output_type": "stream",
     "text": [
      "The coherence score is highest (0.32219922842071974) with 2 topics.\n",
      "CPU times: user 58.8 s, sys: 2.69 s, total: 1min 1s\n",
      "Wall time: 3min 1s\n"
     ]
    }
   ],
   "source": [
    "%%time\n",
    "# Determining the number of topics\n",
    "best_num = float('NaN')\n",
    "best_score = 0\n",
    "coherence_values = []\n",
    "# compute the coherence scores for each number of topics\n",
    "for i in range(2,20):\n",
    "    \n",
    "    # create lda model with i topics\n",
    "    lda = LdaModel(corpus=bow, num_topics=i, id2word=dictionary, random_state=42)\n",
    "    \n",
    "    # obtain the coherence score\n",
    "    coherence_model = CoherenceModel(model=lda, texts=df['desc_tokenized'], dictionary=dictionary, coherence='c_v')\n",
    "    coherence_score = coherence_model.get_coherence()\n",
    "    coherence_values.append(coherence_model.get_coherence())\n",
    "    if coherence_score > best_score:\n",
    "        best_num = i\n",
    "        best_score = coherence_score\n",
    "\n",
    "print(f'The coherence score is highest ({best_score}) with {best_num} topics.')"
   ]
  },
  {
   "cell_type": "code",
   "execution_count": 90,
   "id": "a00cb8ba",
   "metadata": {},
   "outputs": [
    {
     "data": {
      "image/png": "[encoded data removed]",
      "text/plain": [
       "<Figure size 432x288 with 1 Axes>"
      ]
     },
     "metadata": {
      "needs_background": "light"
     },
     "output_type": "display_data"
    }
   ],
   "source": [
    "# Show graph\n",
    "x = range(2,20)\n",
    "plt.plot(x, coherence_values)\n",
    "plt.xlabel(\"Num Topics\")\n",
    "plt.ylabel(\"Coherence score\")\n",
    "plt.legend((\"coherence_values\"), loc='best')\n",
    "plt.show()"
   ]
  },
  {
   "cell_type": "code",
   "execution_count": 91,
   "id": "63630e98",
   "metadata": {},
   "outputs": [],
   "source": [
    "# build the lda model\n",
    "lda_model = gensim.models.ldamodel.LdaModel(corpus=bow,\n",
    "                                          id2word=dictionary,\n",
    "                                        num_topics=2, \n",
    "                                        random_state=42)"
   ]
  },
  {
   "cell_type": "code",
   "execution_count": 92,
   "id": "31e5ed80",
   "metadata": {},
   "outputs": [
    {
     "name": "stdout",
     "output_type": "stream",
     "text": [
      "(0, '0.014*\"team\" + 0.011*\"business\" + 0.007*\"solution\" + 0.006*\"technology\" + 0.005*\"client\" + 0.005*\"customer\" + 0.005*\"ability\" + 0.005*\"database\" + 0.005*\"development\" + 0.005*\"model\"')\n",
      "(1, '0.014*\"business\" + 0.012*\"team\" + 0.006*\"solution\" + 0.005*\"database\" + 0.005*\"support\" + 0.005*\"analytics\" + 0.005*\"looking\" + 0.005*\"technology\" + 0.005*\"process\" + 0.004*\"knowledge\"')\n"
     ]
    }
   ],
   "source": [
    "# show the words most strongly associated with each topic\n",
    "for topic in lda_model.print_topics():\n",
    "    print(topic)"
   ]
  },
  {
   "cell_type": "code",
   "execution_count": 16,
   "id": "1226ba53",
   "metadata": {},
   "outputs": [],
   "source": [
    "df_tf_idf = pd.DataFrame(\n",
    "    data=vect_text.todense().round(2),\n",
    "    columns=vect.get_feature_names_out()\n",
    ")"
   ]
  },
  {
   "cell_type": "code",
   "execution_count": 23,
   "id": "26a308ef",
   "metadata": {},
   "outputs": [],
   "source": [
    "number_topics = 2\n",
    "lda_model=LDA(n_components=2,\n",
    "learning_method='online',random_state=42,n_jobs=-1,doc_topic_prior = 0.95,topic_word_prior = 0.01) \n",
    "lda_top=lda_model.fit_transform(vect_text)"
   ]
  },
  {
   "cell_type": "code",
   "execution_count": 93,
   "id": "f344e8d3",
   "metadata": {},
   "outputs": [],
   "source": [
    "number_topics = 2\n",
    "lda_model=LDA(n_components=number_topics,\n",
    "learning_method='online',random_state=42,n_jobs=-1,doc_topic_prior = 0.9,topic_word_prior = 0.01) \n",
    "lda_top=lda_model.fit_transform(vect_text)"
   ]
  },
  {
   "cell_type": "code",
   "execution_count": 94,
   "id": "6cd9c3dd",
   "metadata": {},
   "outputs": [
    {
     "name": "stdout",
     "output_type": "stream",
     "text": [
      "Document 0: \n",
      "Topic  0 :  53.09149823363083 %\n",
      "Topic  1 :  46.90850176636916 %\n"
     ]
    }
   ],
   "source": [
    "print(\"Document 0: \")\n",
    "for i,topic in enumerate(lda_top[0]):\n",
    "    print(\"Topic \",i,\": \",topic*100,\"%\")"
   ]
  },
  {
   "cell_type": "code",
   "execution_count": 95,
   "id": "eac101d4",
   "metadata": {},
   "outputs": [
    {
     "name": "stdout",
     "output_type": "stream",
     "text": [
      "Topic 0: \n",
      "database developer server looking development application team administrator engineer tool \n",
      "\n",
      "Topic 1: \n",
      "business team solution model customer technology analytics architecture design client \n",
      "\n"
     ]
    }
   ],
   "source": [
    "vocab = vect.get_feature_names()\n",
    "for i, comp in enumerate(lda_model.components_):\n",
    "    vocab_comp = zip(vocab, comp)  \n",
    "    sorted_words = sorted(vocab_comp, key= lambda x:x[1], reverse=True)[:10]\n",
    "    print(\"Topic \"+str(i)+\": \")\n",
    "    for t in sorted_words:\n",
    "        print(t[0],end=\" \")\n",
    "    print(\"\\n\")"
   ]
  },
  {
   "cell_type": "code",
   "execution_count": null,
   "id": "72535d9e",
   "metadata": {},
   "outputs": [],
   "source": [
    "# topic 1: more business oriented, customer facing, analysis \n",
    "# topic 2: developer, engineer"
   ]
  },
  {
   "cell_type": "code",
   "execution_count": 96,
   "id": "5d722369",
   "metadata": {},
   "outputs": [],
   "source": [
    "pyLDAvis.enable_notebook()"
   ]
  },
  {
   "cell_type": "code",
   "execution_count": 97,
   "id": "a8ebfab2",
   "metadata": {},
   "outputs": [
    {
     "name": "stdout",
     "output_type": "stream",
     "text": [
      "CPU times: user 67 ms, sys: 30.5 ms, total: 97.5 ms\n",
      "Wall time: 696 ms\n"
     ]
    },
    {
     "data": {
      "text/html": [
       "\n",
       "<link rel=\"stylesheet\" type=\"text/css\" href=\"https://cdn.jsdelivr.net/gh/bmabey/pyLDAvis@3.3.1/pyLDAvis/js/ldavis.v1.0.0.css\">\n",
       "\n",
       "\n",
       "<div id=\"ldavis_el619201404548338488326674112165\"></div>\n",
       "<script type=\"text/javascript\">\n",
       "\n",
       "var ldavis_el619201404548338488326674112165_data = {\"mdsDat\": {\"x\": [0.22398096819180643, -0.22398096819180643], \"y\": [0.0, 0.0], \"topics\": [1, 2], \"cluster\": [1, 1], \"Freq\": [81.48709644212839, 18.512903557871606]}, \"tinfo\": {\"Term\": [\"database\", \"developer\", \"server\", \"development\", \"looking\", \"application\", \"team\", \"engineer\", \"administrator\", \"tool\", \"system\", \"service\", \"software\", \"process\", \"infrastructure\", \"knowledge\", \"pipeline\", \"people\", \"need\", \"bumble\", \"source\", \"based\", \"build\", \"large\", \"client\", \"vision\", \"platform\", \"product\", \"approach\", \"good\", \"career\", \"physical\", \"enterprise\", \"model\", \"bank\", \"health\", \"community\", \"location\", \"including\", \"architect\", \"pattern\", \"take\", \"closely\", \"logical\", \"following\", \"holiday\", \"intelligence\", \"machine\", \"diversity\", \"annual\", \"strategy\", \"colleague\", \"dimensional\", \"fully\", \"providing\", \"home\", \"programme\", \"thing\", \"review\", \"leave\", \"analytics\", \"science\", \"benefit\", \"architecture\", \"across\", \"stakeholder\", \"financial\", \"excellent\", \"day\", \"year\", \"responsibility\", \"offer\", \"leading\", \"ensure\", \"technical\", \"manager\", \"change\", \"employee\", \"digital\", \"salary\", \"standard\", \"time\", \"develop\", \"insight\", \"business\", \"customer\", \"solution\", \"problem\", \"delivery\", \"ability\", \"design\", \"technology\", \"team\", \"best\", \"support\", \"management\", \"client\", \"project\", \"using\", \"analysis\", \"within\", \"learning\", \"knowledge\", \"analyst\", \"service\", \"product\", \"modeller\", \"thales\", \"nuclear\", \"bumble\", \"game\", \"installation\", \"carbon\", \"tagged\", \"accelerate\", \"meraki\", \"pronoun\", \"bisexual\", \"fandom\", \"docker\", \"stamp\", \"transgender\", \"amswych\", \"sqldesignated\", \"ssrsdegree\", \"queer\", \"round\", \"attending\", \"parent\", \"shipping\", \"binary\", \"ingres\", \"dial\", \"exploitation\", \"configuring\", \"depend\", \"upgrade\", \"advantage\", \"linux\", \"colour\", \"lesbian\", \"planet\", \"unix\", \"star\", \"route\", \"install\", \"edinburgh\", \"window\", \"backend\", \"note\", \"table\", \"react\", \"focusing\", \"developer\", \"server\", \"example\", \"strongly\", \"positive\", \"trading\", \"fund\", \"database\", \"familiarity\", \"veteran\", \"administrator\", \"ecosystem\", \"vision\", \"infrastructure\", \"vault\", \"looking\", \"basic\", \"development\", \"software\", \"pipeline\", \"engineer\", \"application\", \"java\", \"tool\", \"interview\", \"system\", \"modeler\", \"process\", \"team\", \"service\", \"source\", \"knowledge\", \"people\", \"need\", \"large\", \"build\", \"based\", \"client\", \"approach\", \"platform\", \"product\", \"good\"], \"Freq\": [101.0, 52.0, 44.0, 51.0, 50.0, 47.0, 95.0, 37.0, 28.0, 44.0, 45.0, 49.0, 28.0, 45.0, 25.0, 48.0, 23.0, 39.0, 42.0, 16.0, 29.0, 36.0, 31.0, 24.0, 55.0, 16.0, 41.0, 42.0, 20.0, 34.0, 26.877982309866102, 18.14138508277959, 23.958999341695954, 53.539561173831565, 22.22607514685165, 17.518141653775604, 18.472817273405294, 18.57843631943114, 31.59742446914121, 35.40507892274041, 15.853248815791932, 17.762030966613626, 17.046599491649417, 15.082195553020929, 17.227785822393546, 18.9161680324385, 15.37457215906488, 24.857494468686223, 15.80696553654562, 17.017184618469628, 22.802027882346714, 24.128095361353893, 15.348607080194952, 14.073545588635971, 18.5329445598903, 18.211278486717877, 14.194922527653333, 15.390155999636653, 14.27688521247879, 15.471243038299011, 43.79334649040485, 38.34777872424137, 34.986228317714875, 43.21009784506883, 34.022862883495236, 30.815771123579154, 28.782983478746, 28.442794521167077, 27.314648164644627, 27.47039913887697, 24.60645629179517, 25.727203349313378, 23.1513706047551, 24.661767418392625, 39.54765857498416, 23.27094582508172, 23.303416632717873, 22.70243850670687, 22.60041359070711, 23.9107011375756, 21.346874650071538, 31.59720234663429, 28.47515438650748, 33.914952817433985, 87.28664936733576, 49.89937299397198, 59.24995595713794, 28.978699858110936, 25.55600844089104, 38.377795828382176, 42.02801174086921, 44.87489071625462, 68.77203276307846, 29.17488620810528, 40.343315576225265, 37.34739702001223, 40.51282712101495, 33.889946114300244, 32.06761752957919, 31.166091832924977, 31.72952036349816, 30.251757516678794, 31.577370077550768, 29.3231491821157, 29.87022776167636, 29.3477450493874, 12.362222336728026, 8.843947710843366, 5.649700159760533, 16.173060755055754, 6.731584896895285, 4.528222510883966, 4.581459832922029, 3.9587212396137312, 4.276865702352704, 3.9590693708296416, 6.007554193357592, 6.007273425614372, 5.525472751035512, 4.517456227078682, 3.5230027291350163, 6.006062842920862, 3.3031281242235284, 3.3030806411256783, 3.3030936416732386, 6.004624467974513, 3.2976079773748745, 3.3339871928135354, 6.639484378727314, 3.2252888186194943, 6.04989850632752, 3.250746962224488, 2.9578930807720543, 2.95771290145696, 3.076456986136796, 2.957723139018655, 11.240126282456833, 11.678286475622372, 8.62001810559113, 6.984343056881656, 6.00101919369972, 6.225913824576994, 5.390562223698758, 7.860855406460795, 5.565806139000886, 5.441342682316205, 4.805683506152595, 6.617548381622885, 6.949081392732152, 11.05520110804622, 9.696249400675471, 7.351780421524292, 6.077467251499971, 49.324302066186505, 40.31446670861799, 9.518986431909129, 8.296219886056141, 10.912315707391722, 8.242090164924786, 7.816637906389026, 81.14588861207466, 11.95547665352569, 10.421729693104606, 24.587509734981747, 11.799901736154421, 14.15034942858714, 19.8767064819635, 12.159647437406557, 33.001946186401796, 10.73726210104403, 32.95530757392969, 19.991540138180486, 17.15143646840888, 23.35055961854837, 27.47542900375091, 10.857799550957584, 22.512494181153144, 11.925358014742512, 21.636178224255154, 12.26278736510212, 19.12573193804096, 26.264148071444424, 19.509149344482726, 14.589759986117947, 16.997177036634298, 15.909029809805794, 15.994014400934212, 13.576161082297954, 13.999683581091272, 14.125205041084945, 14.868534495842876, 12.663256865151638, 13.275132423656588, 13.235826226275732, 12.465598115321368], \"Total\": [101.0, 52.0, 44.0, 51.0, 50.0, 47.0, 95.0, 37.0, 28.0, 44.0, 45.0, 49.0, 28.0, 45.0, 25.0, 48.0, 23.0, 39.0, 42.0, 16.0, 29.0, 36.0, 31.0, 24.0, 55.0, 16.0, 41.0, 42.0, 20.0, 34.0, 26.89987175334012, 18.156259768918538, 23.979718203554498, 53.58642245456528, 22.246302553717474, 17.534114279845998, 18.489690212866204, 18.59600848143247, 31.628203931908967, 35.440284276192195, 15.869098441951879, 17.779842444715655, 17.063782779988117, 15.097792128685683, 17.245633656491577, 18.935939085317123, 15.390863409195848, 24.884474333362615, 15.82413353757303, 17.03602135739258, 22.827344121890178, 24.15498768550054, 15.36573459165266, 14.08934443724872, 18.553778660648238, 18.23189359169647, 14.211039534261296, 15.40777250073792, 14.293260014767931, 15.489007398786526, 43.87984731606619, 38.42413812390495, 35.03223360350966, 43.39641399104576, 34.09667326818756, 30.855447589593936, 28.827575374535055, 28.49896258109051, 27.360872716361595, 27.527441291494917, 24.64465836207873, 25.784694091377354, 23.179077079242198, 24.70708089124458, 39.81390315424678, 23.30338794745239, 23.339501828188265, 22.737987987410932, 22.638758763913735, 23.971886188712052, 21.381120740792905, 31.792085145555227, 28.636061378679592, 34.29487665036154, 93.67376102296721, 52.1493887615925, 62.70666663100946, 29.54077951753579, 25.996499411658306, 42.76532461621307, 48.646285220697905, 53.580410499744836, 95.03618083452288, 31.157028457539973, 49.4732817048006, 46.1029414672976, 55.38136161685783, 43.29043533009154, 38.957503239320516, 36.853172519271645, 40.2151635805281, 36.06412326560455, 48.574547114185066, 33.47074013865997, 49.37937710615908, 42.58357127566313, 12.373892170930752, 8.85521174366207, 5.659516993505124, 16.20787240223708, 6.746730705001084, 4.5385909503847905, 4.592567452315122, 3.968695267626895, 4.28777141171837, 3.969528420832504, 6.023884178721227, 6.023771773074565, 5.541028152594707, 4.530292290596264, 3.5330570134572046, 6.023386944379668, 3.3131190815910836, 3.3130780596385723, 3.3131326975639577, 6.022938758177103, 3.3076771540290504, 3.3443095729836623, 6.6600824779535905, 3.2353268877746335, 6.068791248827135, 3.261501746205078, 2.967686392392204, 2.9675524935199973, 3.086766680132095, 2.967644103924264, 11.307051437690367, 11.78882319978701, 8.676244964656837, 7.015338549864478, 6.02186267614913, 6.25474461979334, 5.41060212157126, 7.921685325063376, 5.594638182497192, 5.469730755410316, 4.825387251440656, 6.666440712033595, 7.004017753139997, 11.21838986857531, 9.828494399995915, 7.42520254125264, 6.128856970386219, 52.546757629228914, 44.13264050123283, 9.814858982036302, 8.527835273554443, 11.443394205191396, 8.492973952688642, 8.033455730219607, 101.63414114149825, 12.697273399882395, 10.95865397284466, 28.402320715010667, 12.96492998560069, 16.40200013147622, 25.3432075046777, 14.1874556983224, 50.40637462751337, 12.224398145787568, 51.42153395675737, 28.761713184267826, 23.90670820208115, 37.236548179704826, 47.38112275467829, 13.278341103725198, 44.40605977375849, 15.599408615742934, 45.64101489222324, 17.146730908765193, 45.587096495352654, 95.03618083452288, 49.37937710615908, 29.597163729951568, 48.574547114185066, 39.67794099083234, 42.348648858312565, 24.93104216682541, 31.016519046482202, 36.0701229360459, 55.38136161685783, 20.478242448754028, 41.005451233683296, 42.58357127566313, 34.750235091647816], \"Category\": [\"Default\", \"Default\", \"Default\", \"Default\", \"Default\", \"Default\", \"Default\", \"Default\", \"Default\", \"Default\", \"Default\", \"Default\", \"Default\", \"Default\", \"Default\", \"Default\", \"Default\", \"Default\", \"Default\", \"Default\", \"Default\", \"Default\", \"Default\", \"Default\", \"Default\", \"Default\", \"Default\", \"Default\", \"Default\", \"Default\", \"Topic1\", \"Topic1\", \"Topic1\", \"Topic1\", \"Topic1\", \"Topic1\", \"Topic1\", \"Topic1\", \"Topic1\", \"Topic1\", \"Topic1\", \"Topic1\", \"Topic1\", \"Topic1\", \"Topic1\", \"Topic1\", \"Topic1\", \"Topic1\", \"Topic1\", \"Topic1\", \"Topic1\", \"Topic1\", \"Topic1\", \"Topic1\", \"Topic1\", \"Topic1\", \"Topic1\", \"Topic1\", \"Topic1\", \"Topic1\", \"Topic1\", \"Topic1\", \"Topic1\", \"Topic1\", \"Topic1\", \"Topic1\", \"Topic1\", \"Topic1\", \"Topic1\", \"Topic1\", \"Topic1\", \"Topic1\", \"Topic1\", \"Topic1\", \"Topic1\", \"Topic1\", \"Topic1\", \"Topic1\", \"Topic1\", \"Topic1\", \"Topic1\", \"Topic1\", \"Topic1\", \"Topic1\", \"Topic1\", \"Topic1\", \"Topic1\", \"Topic1\", \"Topic1\", \"Topic1\", \"Topic1\", \"Topic1\", \"Topic1\", \"Topic1\", \"Topic1\", \"Topic1\", \"Topic1\", \"Topic1\", \"Topic1\", \"Topic1\", \"Topic1\", \"Topic1\", \"Topic1\", \"Topic1\", \"Topic1\", \"Topic1\", \"Topic2\", \"Topic2\", \"Topic2\", \"Topic2\", \"Topic2\", \"Topic2\", \"Topic2\", \"Topic2\", \"Topic2\", \"Topic2\", \"Topic2\", \"Topic2\", \"Topic2\", \"Topic2\", \"Topic2\", \"Topic2\", \"Topic2\", \"Topic2\", \"Topic2\", \"Topic2\", \"Topic2\", \"Topic2\", \"Topic2\", \"Topic2\", \"Topic2\", \"Topic2\", \"Topic2\", \"Topic2\", \"Topic2\", \"Topic2\", \"Topic2\", \"Topic2\", \"Topic2\", \"Topic2\", \"Topic2\", \"Topic2\", \"Topic2\", \"Topic2\", \"Topic2\", \"Topic2\", \"Topic2\", \"Topic2\", \"Topic2\", \"Topic2\", \"Topic2\", \"Topic2\", \"Topic2\", \"Topic2\", \"Topic2\", \"Topic2\", \"Topic2\", \"Topic2\", \"Topic2\", \"Topic2\", \"Topic2\", \"Topic2\", \"Topic2\", \"Topic2\", \"Topic2\", \"Topic2\", \"Topic2\", \"Topic2\", \"Topic2\", \"Topic2\", \"Topic2\", \"Topic2\", \"Topic2\", \"Topic2\", \"Topic2\", \"Topic2\", \"Topic2\", \"Topic2\", \"Topic2\", \"Topic2\", \"Topic2\", \"Topic2\", \"Topic2\", \"Topic2\", \"Topic2\", \"Topic2\", \"Topic2\", \"Topic2\", \"Topic2\", \"Topic2\", \"Topic2\", \"Topic2\", \"Topic2\", \"Topic2\", \"Topic2\"], \"logprob\": [30.0, 29.0, 28.0, 27.0, 26.0, 25.0, 24.0, 23.0, 22.0, 21.0, 20.0, 19.0, 18.0, 17.0, 16.0, 15.0, 14.0, 13.0, 12.0, 11.0, 10.0, 9.0, 8.0, 7.0, 6.0, 5.0, 4.0, 3.0, 2.0, 1.0, -6.3993, -6.7924, -6.5143, -5.7102, -6.5893, -6.8274, -6.7743, -6.7686, -6.2375, -6.1237, -6.9272, -6.8135, -6.8547, -6.9771, -6.8441, -6.7506, -6.9579, -6.4774, -6.9302, -6.8564, -6.5638, -6.5072, -6.9596, -7.0463, -6.7711, -6.7886, -7.0377, -6.9569, -7.032, -6.9516, -5.9111, -6.0439, -6.1356, -5.9245, -6.1636, -6.2626, -6.3308, -6.3427, -6.3832, -6.3775, -6.4876, -6.4431, -6.5485, -6.4853, -6.0131, -6.5434, -6.542, -6.5681, -6.5726, -6.5163, -6.6297, -6.2375, -6.3416, -6.1667, -5.2214, -5.7806, -5.6088, -6.324, -6.4497, -6.0431, -5.9523, -5.8867, -5.4598, -6.3173, -5.9932, -6.0703, -5.989, -6.1675, -6.2228, -6.2513, -6.2334, -6.281, -6.2382, -6.3122, -6.2937, -6.3114, -5.694, -6.0289, -6.477, -5.4253, -6.3018, -6.6983, -6.6866, -6.8327, -6.7554, -6.8326, -6.4156, -6.4157, -6.4993, -6.7007, -6.9493, -6.4159, -7.0138, -7.0138, -7.0138, -6.4161, -7.0154, -7.0045, -6.3156, -7.0376, -6.4086, -7.0297, -7.1241, -7.1242, -7.0848, -7.1242, -5.7891, -5.7509, -6.0545, -6.265, -6.4167, -6.3799, -6.524, -6.1467, -6.492, -6.5146, -6.6388, -6.3189, -6.27, -5.8057, -5.9369, -6.2137, -6.404, -4.3102, -4.5119, -5.9553, -6.0928, -5.8187, -6.0994, -6.1524, -3.8124, -5.7274, -5.8647, -5.0064, -5.7405, -5.5589, -5.2191, -5.7105, -4.7121, -5.8349, -4.7135, -5.2133, -5.3665, -5.058, -4.8953, -5.8237, -5.0946, -5.73, -5.1343, -5.7021, -5.2576, -4.9404, -5.2377, -5.5283, -5.3756, -5.4417, -5.4364, -5.6003, -5.5696, -5.5607, -5.5094, -5.6699, -5.6227, -5.6257, -5.6857], \"loglift\": [30.0, 29.0, 28.0, 27.0, 26.0, 25.0, 24.0, 23.0, 22.0, 21.0, 20.0, 19.0, 18.0, 17.0, 16.0, 15.0, 14.0, 13.0, 12.0, 11.0, 10.0, 9.0, 8.0, 7.0, 6.0, 5.0, 4.0, 3.0, 2.0, 1.0, 0.2039, 0.2039, 0.2039, 0.2039, 0.2038, 0.2038, 0.2038, 0.2038, 0.2038, 0.2037, 0.2037, 0.2037, 0.2037, 0.2037, 0.2037, 0.2037, 0.2037, 0.2036, 0.2036, 0.2036, 0.2036, 0.2036, 0.2036, 0.2036, 0.2036, 0.2036, 0.2036, 0.2036, 0.2036, 0.2036, 0.2028, 0.2027, 0.2034, 0.2004, 0.2026, 0.2034, 0.2032, 0.2028, 0.203, 0.2027, 0.2032, 0.2025, 0.2035, 0.2029, 0.198, 0.2033, 0.2032, 0.2032, 0.203, 0.2022, 0.2031, 0.1986, 0.1991, 0.1936, 0.1341, 0.1606, 0.148, 0.1855, 0.1876, 0.0965, 0.0585, 0.0274, -0.1187, 0.139, 0.0007, -0.0059, -0.1079, -0.0401, 0.0101, 0.0371, -0.0323, 0.029, -0.2259, 0.0724, -0.2979, -0.1675, 1.6858, 1.6854, 1.685, 1.6846, 1.6845, 1.6844, 1.6843, 1.6842, 1.6842, 1.6841, 1.684, 1.684, 1.6839, 1.6839, 1.6839, 1.6838, 1.6837, 1.6837, 1.6837, 1.6837, 1.6837, 1.6836, 1.6836, 1.6836, 1.6836, 1.6834, 1.6834, 1.6834, 1.6834, 1.6834, 1.6808, 1.6773, 1.6802, 1.6823, 1.6832, 1.6821, 1.683, 1.679, 1.6815, 1.6815, 1.6826, 1.6793, 1.6788, 1.672, 1.6732, 1.6768, 1.6783, 1.6234, 1.5962, 1.6561, 1.6592, 1.6392, 1.6567, 1.6593, 1.4616, 1.6265, 1.6365, 1.5425, 1.5925, 1.539, 1.4437, 1.5325, 1.2632, 1.557, 1.2418, 1.323, 1.3546, 1.22, 1.1418, 1.4855, 1.0074, 1.4181, 0.9403, 1.3515, 0.8181, 0.4006, 0.7581, 0.9793, 0.6366, 0.7728, 0.713, 1.0789, 0.8912, 0.7492, 0.3717, 1.206, 0.5589, 0.5182, 0.6615]}, \"token.table\": {\"Topic\": [1, 2, 2, 1, 1, 2, 2, 2, 1, 2, 1, 2, 1, 1, 1, 2, 1, 2, 1, 1, 2, 2, 1, 1, 2, 1, 2, 1, 1, 2, 2, 2, 1, 2, 2, 1, 2, 2, 1, 1, 1, 2, 1, 1, 2, 1, 2, 1, 2, 1, 2, 1, 1, 2, 1, 2, 1, 1, 2, 1, 2, 2, 1, 1, 1, 2, 1, 2, 2, 1, 1, 2, 1, 1, 2, 1, 2, 1, 2, 2, 1, 2, 1, 1, 2, 2, 1, 2, 1, 1, 1, 1, 1, 2, 2, 1, 2, 2, 1, 1, 2, 1, 2, 1, 2, 1, 2, 1, 1, 2, 1, 2, 2, 1, 1, 1, 2, 1, 1, 2, 1, 2, 1, 1, 2, 2, 1, 2, 2, 2, 1, 2, 1, 1, 2, 1, 1, 2, 2, 1, 2, 1, 2, 1, 2, 1, 2, 1, 2, 1, 1, 2, 2, 1, 2, 2, 1, 1, 2, 2, 1, 1, 1, 2, 1, 2, 2, 1, 2, 1, 2, 1, 2, 2, 2, 1, 2, 1, 2, 1, 2, 1, 2, 1, 2, 2, 2, 1, 1, 2, 1, 1, 2, 2, 1, 1, 1, 2, 2, 2, 2, 2, 1, 2, 1, 2, 1, 2, 1, 2, 2, 1, 2, 1], \"Freq\": [0.8885703625781328, 0.09353372237664556, 0.9328855519368645, 0.9971647301944335, 0.1408335621633198, 0.8802097635207486, 1.0179133062422046, 0.9054911478036244, 0.8411758847569815, 0.16280823575941575, 0.8664284052238183, 0.11950736623776805, 1.0027382201917967, 0.9978855768822484, 0.42210903493259355, 0.5698471971590012, 0.3906585255067507, 0.6348201039484699, 0.9875767284268663, 0.9908652822989578, 0.8970461419704986, 0.9994263645122551, 0.9889283824526465, 0.6099230667721062, 0.38813286067315844, 0.08180361831102435, 0.8998398014212678, 0.9990798872868206, 0.9307691213082301, 0.06419097388332622, 0.9886647528302395, 0.9960536730191503, 0.5480950320222374, 0.45137237931243085, 0.9871746027437637, 0.9287552784249699, 0.0640520881672393, 1.0887156371496494, 1.0037222573987719, 0.9854537671503241, 0.7403212706045095, 0.2708492453431132, 0.9962620961125385, 0.9935836156276091, 0.9978135695440137, 0.9735154993280823, 0.9718907552389473, 0.9587840085447847, 0.03835136034179139, 0.19678426732760373, 0.7969762826767951, 0.9868106284436682, 1.0001346561429776, 1.0109028896129932, 0.8633752774637341, 0.143895879577289, 0.9777880983607208, 0.05709200977095612, 0.9325028262589499, 0.3500479004600872, 0.6417544841768266, 1.0108884846089645, 1.0159567598141503, 0.976198040551127, 1.0111138130886845, 1.1036815461948737, 0.07713115312698451, 0.9255738375238142, 1.0361862663990775, 1.0115230957433055, 0.3759746991701683, 0.6176727200652765, 1.0118556744944815, 1.0008457896074232, 1.0188633395856785, 0.9824919037080466, 1.010934096886527, 0.07875706606500749, 0.9450847927800898, 1.0828315313991626, 1.005981239255288, 0.9789753666941751, 0.9857567624719248, 0.9936587228989509, 0.9958354497313334, 1.0375395589468508, 0.6330892421872472, 0.34532140482940754, 1.0265702454494379, 1.0033830334156784, 0.9872808827821328, 1.0117552064888495, 0.19729152275129852, 0.7891660910051941, 0.9198216752422872, 0.9914017287955917, 0.9141217773935787, 1.1016635018796066, 0.974604192188314, 0.2564199770985675, 0.7692599312957026, 0.15062122477324416, 0.8284167362528428, 0.6587812321703591, 0.34997752959050327, 0.44121701477193737, 0.5615489278915566, 0.9922741928580682, 0.8318516376803734, 0.16637032753607467, 0.968428745225802, 0.9963694495665399, 1.0373151100115312, 1.0217246361750643, 0.9935227530057273, 0.33725893055440787, 0.6546791004879683, 1.0046424796879274, 0.8025518290681165, 0.19521530977332563, 0.9869809510901801, 1.0076763725906528, 1.0077179540355654, 0.2916007737337304, 0.6998418569609529, 0.9697837862359012, 0.613951110624312, 0.37781606807649964, 0.9805328686974003, 1.060161142176199, 1.008350143998592, 1.051038034914975, 1.0082488339540492, 0.6048700965996507, 0.40324673106643383, 0.9913936146041468, 0.2928048454362541, 0.7110974817737601, 0.9592717792206588, 0.6828360414919622, 0.3170310192641253, 0.08738666011753236, 0.961253261292856, 0.9816937966306957, 0.03385151022864468, 0.5703368277172588, 0.4167846048703045, 0.6810138072325969, 0.30528205151806065, 0.9851496061387697, 0.7853928873837478, 0.2078981172486391, 0.9960350866629216, 1.0240501596743836, 0.9961914342652147, 0.9427352265624652, 1.0144186067707086, 0.9794826362589828, 0.9069808993739695, 1.0724554125360566, 1.0011727826115404, 0.9889616750143556, 0.09063586394492443, 0.9063586394492443, 0.6075410780396033, 0.4050273853597356, 0.927263335070139, 0.3129159915593223, 0.6953688701318274, 0.9408887949215841, 0.04784180313160597, 0.5068053188089907, 0.5068053188089907, 0.9055023594364914, 0.9054874265089973, 1.00468482623648, 1.1321640111564113, 0.982174894131449, 1.009886112831173, 1.007563555233929, 0.9381044243207528, 0.8085172161950727, 0.18191637364389135, 0.5258428204691249, 0.4820225854300311, 1.0174498344328462, 1.0078879153631324, 1.0123824244207393, 0.726039276769159, 0.2735800173333063, 1.0046741673387873, 0.8398591869730879, 0.16797183739461757, 1.0163506261091453, 0.9735346234688764, 1.0065398306997753, 0.4954278788094767, 0.5179473278462711, 0.9419550848224867, 0.9961173099793148, 0.9241115660798175, 0.9728442521569455, 0.8214078762548063, 0.17968297293073887, 0.140969603185192, 0.845817619111152, 0.09125208282677612, 0.9125208282677612, 0.12193634824827886, 0.8535544377379519, 1.0500355890609356, 0.7957197522253565, 0.19892993805633913, 0.9808394363315606], \"Term\": [\"ability\", \"ability\", \"accelerate\", \"across\", \"administrator\", \"administrator\", \"advantage\", \"amswych\", \"analysis\", \"analysis\", \"analyst\", \"analyst\", \"analytics\", \"annual\", \"application\", \"application\", \"approach\", \"approach\", \"architect\", \"architecture\", \"attending\", \"backend\", \"bank\", \"based\", \"based\", \"basic\", \"basic\", \"benefit\", \"best\", \"best\", \"binary\", \"bisexual\", \"build\", \"build\", \"bumble\", \"business\", \"business\", \"carbon\", \"career\", \"change\", \"client\", \"client\", \"closely\", \"colleague\", \"colour\", \"community\", \"configuring\", \"customer\", \"customer\", \"database\", \"database\", \"day\", \"delivery\", \"depend\", \"design\", \"design\", \"develop\", \"developer\", \"developer\", \"development\", \"development\", \"dial\", \"digital\", \"dimensional\", \"diversity\", \"docker\", \"ecosystem\", \"ecosystem\", \"edinburgh\", \"employee\", \"engineer\", \"engineer\", \"ensure\", \"enterprise\", \"example\", \"excellent\", \"exploitation\", \"familiarity\", \"familiarity\", \"fandom\", \"financial\", \"focusing\", \"following\", \"fully\", \"fund\", \"game\", \"good\", \"good\", \"health\", \"holiday\", \"home\", \"including\", \"infrastructure\", \"infrastructure\", \"ingres\", \"insight\", \"install\", \"installation\", \"intelligence\", \"interview\", \"interview\", \"java\", \"java\", \"knowledge\", \"knowledge\", \"large\", \"large\", \"leading\", \"learning\", \"learning\", \"leave\", \"lesbian\", \"linux\", \"location\", \"logical\", \"looking\", \"looking\", \"machine\", \"management\", \"management\", \"manager\", \"meraki\", \"model\", \"modeler\", \"modeler\", \"modeller\", \"need\", \"need\", \"note\", \"nuclear\", \"offer\", \"parent\", \"pattern\", \"people\", \"people\", \"physical\", \"pipeline\", \"pipeline\", \"planet\", \"platform\", \"platform\", \"positive\", \"positive\", \"problem\", \"problem\", \"process\", \"process\", \"product\", \"product\", \"programme\", \"project\", \"project\", \"pronoun\", \"providing\", \"queer\", \"react\", \"responsibility\", \"review\", \"round\", \"route\", \"salary\", \"science\", \"server\", \"server\", \"service\", \"service\", \"shipping\", \"software\", \"software\", \"solution\", \"solution\", \"source\", \"source\", \"sqldesignated\", \"ssrsdegree\", \"stakeholder\", \"stamp\", \"standard\", \"star\", \"strategy\", \"strongly\", \"support\", \"support\", \"system\", \"system\", \"table\", \"tagged\", \"take\", \"team\", \"team\", \"technical\", \"technology\", \"technology\", \"thales\", \"thing\", \"time\", \"tool\", \"tool\", \"trading\", \"transgender\", \"unix\", \"upgrade\", \"using\", \"using\", \"vault\", \"vault\", \"veteran\", \"veteran\", \"vision\", \"vision\", \"window\", \"within\", \"within\", \"year\"]}, \"R\": 30, \"lambda.step\": 0.01, \"plot.opts\": {\"xlab\": \"PC1\", \"ylab\": \"PC2\"}, \"topic.order\": [2, 1]};\n",
       "\n",
       "function LDAvis_load_lib(url, callback){\n",
       "  var s = document.createElement('script');\n",
       "  s.src = url;\n",
       "  s.async = true;\n",
       "  s.onreadystatechange = s.onload = callback;\n",
       "  s.onerror = function(){console.warn(\"failed to load library \" + url);};\n",
       "  document.getElementsByTagName(\"head\")[0].appendChild(s);\n",
       "}\n",
       "\n",
       "if(typeof(LDAvis) !== \"undefined\"){\n",
       "   // already loaded: just create the visualization\n",
       "   !function(LDAvis){\n",
       "       new LDAvis(\"#\" + \"ldavis_el619201404548338488326674112165\", ldavis_el619201404548338488326674112165_data);\n",
       "   }(LDAvis);\n",
       "}else if(typeof define === \"function\" && define.amd){\n",
       "   // require.js is available: use it to load d3/LDAvis\n",
       "   require.config({paths: {d3: \"https://d3js.org/d3.v5\"}});\n",
       "   require([\"d3\"], function(d3){\n",
       "      window.d3 = d3;\n",
       "      LDAvis_load_lib(\"https://cdn.jsdelivr.net/gh/bmabey/pyLDAvis@3.3.1/pyLDAvis/js/ldavis.v3.0.0.js\", function(){\n",
       "        new LDAvis(\"#\" + \"ldavis_el619201404548338488326674112165\", ldavis_el619201404548338488326674112165_data);\n",
       "      });\n",
       "    });\n",
       "}else{\n",
       "    // require.js not available: dynamically load d3 & LDAvis\n",
       "    LDAvis_load_lib(\"https://d3js.org/d3.v5.js\", function(){\n",
       "         LDAvis_load_lib(\"https://cdn.jsdelivr.net/gh/bmabey/pyLDAvis@3.3.1/pyLDAvis/js/ldavis.v3.0.0.js\", function(){\n",
       "                 new LDAvis(\"#\" + \"ldavis_el619201404548338488326674112165\", ldavis_el619201404548338488326674112165_data);\n",
       "            })\n",
       "         });\n",
       "}\n",
       "</script>"
      ],
      "text/plain": [
       "PreparedData(topic_coordinates=              x    y  topics  cluster       Freq\n",
       "topic                                           \n",
       "1      0.223981  0.0       1        1  81.487096\n",
       "0     -0.223981  0.0       2        1  18.512904, topic_info=             Term        Freq       Total Category  logprob  loglift\n",
       "1687     database  101.000000  101.000000  Default  30.0000  30.0000\n",
       "1884    developer   52.000000   52.000000  Default  29.0000  29.0000\n",
       "5952       server   44.000000   44.000000  Default  28.0000  28.0000\n",
       "1886  development   51.000000   51.000000  Default  27.0000  27.0000\n",
       "3923      looking   50.000000   50.000000  Default  26.0000  26.0000\n",
       "...           ...         ...         ...      ...      ...      ...\n",
       "1151       client   14.868534   55.381362   Topic2  -5.5094   0.3717\n",
       "391      approach   12.663257   20.478242   Topic2  -5.6699   1.2060\n",
       "4894     platform   13.275132   41.005451   Topic2  -5.6227   0.5589\n",
       "5116      product   13.235826   42.583571   Topic2  -5.6257   0.5182\n",
       "2933         good   12.465598   34.750235   Topic2  -5.6857   0.6615\n",
       "\n",
       "[195 rows x 6 columns], token_table=      Topic      Freq           Term\n",
       "term                                \n",
       "2         1  0.888570        ability\n",
       "2         2  0.093534        ability\n",
       "23        2  0.932886     accelerate\n",
       "82        1  0.997165         across\n",
       "141       1  0.140834  administrator\n",
       "...     ...       ...            ...\n",
       "7169      2  0.853554         vision\n",
       "7317      2  1.050036         window\n",
       "7329      1  0.795720         within\n",
       "7329      2  0.198930         within\n",
       "7384      1  0.980839           year\n",
       "\n",
       "[214 rows x 3 columns], R=30, lambda_step=0.01, plot_opts={'xlab': 'PC1', 'ylab': 'PC2'}, topic_order=[2, 1])"
      ]
     },
     "execution_count": 97,
     "metadata": {},
     "output_type": "execute_result"
    }
   ],
   "source": [
    "%%time\n",
    "\n",
    "pyLDAvis.sklearn.prepare(lda_model, vect_text, vect)"
   ]
  },
  {
   "cell_type": "code",
   "execution_count": 36,
   "id": "fe920826",
   "metadata": {},
   "outputs": [],
   "source": [
    "def new_tokenized(text):\n",
    "    remove= ['plus','bank','holiday','annual', 'leave','join','today','release','equal','employer','united','kingdom','salary'\n",
    "            ,'application','interview']\n",
    "    corpus=[t for t in text if t not in remove]\n",
    "    return corpus\n",
    "df['desc_tokenized']=df['desc_tokenized'].apply(new_tokenized)"
   ]
  },
  {
   "cell_type": "code",
   "execution_count": 37,
   "id": "ab88b629",
   "metadata": {},
   "outputs": [
    {
     "data": {
      "text/plain": [
       "<AxesSubplot:xlabel='Tri-gram Frequency', ylabel='Top 20 tri-grams mentioned in Job descriptions'>"
      ]
     },
     "execution_count": 37,
     "metadata": {},
     "output_type": "execute_result"
    },
    {
     "data": {
      "image/png": "[encoded data removed]",
      "text/plain": [
       "<Figure size 720x720 with 1 Axes>"
      ]
     },
     "metadata": {
      "needs_background": "light"
     },
     "output_type": "display_data"
    }
   ],
   "source": [
    "def _get_top_ngram(corpus, n):\n",
    "        vec = TfidfVectorizer(tokenizer=dummy_tokenizer,ngram_range=(n, n), lowercase=False).fit(corpus)\n",
    "        bag_of_words = vec.transform(corpus)\n",
    "        sum_words = bag_of_words.sum(axis=0) \n",
    "        words_freq = [(word, sum_words[0, idx]) \n",
    "                      for word, idx in vec.vocabulary_.items()]\n",
    "        words_freq =sorted(words_freq, key = lambda x: x[1], reverse=True)\n",
    "        return words_freq[:20]\n",
    "top_n_bigrams=_get_top_ngram(df['desc_tokenized'],3)[:20]\n",
    "x,y=map(list,zip(*top_n_bigrams))\n",
    "plt.figure(figsize=(10,10))\n",
    "plt.xlabel(\"Tri-gram Frequency\")\n",
    "plt.ylabel(\"Top 20 tri-grams mentioned in Job descriptions\")\n",
    "sns.barplot(x=y,y=x)"
   ]
  },
  {
   "cell_type": "code",
   "execution_count": 41,
   "id": "0dec8fde",
   "metadata": {},
   "outputs": [
    {
     "data": {
      "text/plain": [
       "<AxesSubplot:xlabel='Bi-gram Frequency', ylabel='Top 20 Bi-grams mentioned in Job descriptions'>"
      ]
     },
     "execution_count": 41,
     "metadata": {},
     "output_type": "execute_result"
    },
    {
     "data": {
      "image/png": "[encoded data removed]",
      "text/plain": [
       "<Figure size 720x720 with 1 Axes>"
      ]
     },
     "metadata": {
      "needs_background": "light"
     },
     "output_type": "display_data"
    }
   ],
   "source": [
    "top_n_bigrams=_get_top_ngram(df['desc_tokenized'],2)[:20]\n",
    "x,y=map(list,zip(*top_n_bigrams))\n",
    "plt.figure(figsize=(10,10))\n",
    "plt.xlabel(\"Bi-gram Frequency\")\n",
    "plt.ylabel(\"Top 20 Bi-grams mentioned in Job descriptions\")\n",
    "sns.barplot(x=y,y=x)"
   ]
  },
  {
   "cell_type": "code",
   "execution_count": 42,
   "id": "334ba888",
   "metadata": {},
   "outputs": [
    {
     "data": {
      "text/plain": [
       "<AxesSubplot:xlabel='Unigram Frequency', ylabel='Top 20 Unigrams mentioned in Job descriptions'>"
      ]
     },
     "execution_count": 42,
     "metadata": {},
     "output_type": "execute_result"
    },
    {
     "data": {
      "image/png": "[encoded data removed]",
      "text/plain": [
       "<Figure size 720x720 with 1 Axes>"
      ]
     },
     "metadata": {
      "needs_background": "light"
     },
     "output_type": "display_data"
    }
   ],
   "source": [
    "top_n_bigrams=_get_top_ngram(df['desc_tokenized'],1)[:20]\n",
    "x,y=map(list,zip(*top_n_bigrams))\n",
    "plt.figure(figsize=(10,10))\n",
    "plt.xlabel(\"Unigram Frequency\")\n",
    "plt.ylabel(\"Top 20 Unigrams mentioned in Job descriptions\")\n",
    "sns.barplot(x=y,y=x)"
   ]
  }
 ],
 "metadata": {
  "kernelspec": {
   "display_name": "Python 3",
   "language": "python",
   "name": "python3"
  },
  "language_info": {
   "codemirror_mode": {
    "name": "ipython",
    "version": 3
   },
   "file_extension": ".py",
   "mimetype": "text/x-python",
   "name": "python",
   "nbconvert_exporter": "python",
   "pygments_lexer": "ipython3",
   "version": "3.8.8"
  }
 },
 "nbformat": 4,
 "nbformat_minor": 5
}
